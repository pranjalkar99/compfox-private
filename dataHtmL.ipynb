{
  "nbformat": 4,
  "nbformat_minor": 0,
  "metadata": {
    "colab": {
      "provenance": [],
      "collapsed_sections": []
    },
    "kernelspec": {
      "name": "python3",
      "display_name": "Python 3"
    },
    "language_info": {
      "name": "python"
    }
  },
  "cells": [
    {
      "cell_type": "code",
      "execution_count": null,
      "metadata": {
        "colab": {
          "base_uri": "https://localhost:8080/"
        },
        "id": "DdkfyqfXGtpU",
        "outputId": "688d1013-44c1-4201-dc2f-e8c5a59c5338"
      },
      "outputs": [
        {
          "output_type": "stream",
          "name": "stdout",
          "text": [
            "Looking in indexes: https://pypi.org/simple, https://us-python.pkg.dev/colab-wheels/public/simple/\n",
            "Collecting aspose-words\n",
            "  Downloading aspose_words-22.10.0-py3-none-manylinux1_x86_64.whl (67.5 MB)\n",
            "\u001b[K     |████████████████████████████████| 67.5 MB 90 kB/s \n",
            "\u001b[?25hInstalling collected packages: aspose-words\n",
            "Successfully installed aspose-words-22.10.0\n"
          ]
        }
      ],
      "source": [
        "!pip install aspose-words"
      ]
    },
    {
      "cell_type": "code",
      "source": [
        "import aspose.words as aw"
      ],
      "metadata": {
        "id": "9aCJlU5dGxQP"
      },
      "execution_count": null,
      "outputs": []
    },
    {
      "cell_type": "code",
      "source": [
        "doc = aw.Document(\"/content/pdfs/2021_04_13_Lopez, Dalila.pdf\")\n",
        "ht_doc = doc.save(\"/content/html/Document18.html\")"
      ],
      "metadata": {
        "id": "jPg7XE20G1Cd"
      },
      "execution_count": null,
      "outputs": []
    },
    {
      "cell_type": "code",
      "source": [
        "mport os\n",
        "import shutil"
      ],
      "metadata": {
        "id": "OVYULdSbHU_j"
      },
      "execution_count": null,
      "outputs": []
    },
    {
      "cell_type": "code",
      "source": [
        "shutil.move(\"/content/2020_7_16_COVID-19.pdf\", \"/content/pdfs\")"
      ],
      "metadata": {
        "colab": {
          "base_uri": "https://localhost:8080/",
          "height": 36
        },
        "id": "Qq1iybOSJuKC",
        "outputId": "48585c20-6a6e-4bac-9f0b-38ac802e09f1"
      },
      "execution_count": null,
      "outputs": [
        {
          "output_type": "execute_result",
          "data": {
            "text/plain": [
              "'/content/pdfs/2020_7_16_COVID-19.pdf'"
            ],
            "application/vnd.google.colaboratory.intrinsic+json": {
              "type": "string"
            }
          },
          "metadata": {},
          "execution_count": 6
        }
      ]
    },
    {
      "cell_type": "code",
      "source": [],
      "metadata": {
        "id": "KsTa-c7lKCsp"
      },
      "execution_count": null,
      "outputs": []
    }
  ]
}